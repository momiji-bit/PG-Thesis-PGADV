{
 "cells": [
  {
   "cell_type": "code",
   "execution_count": null,
   "id": "cc6a42c8ccb60116",
   "metadata": {
    "ExecuteTime": {
     "end_time": "2025-06-23T20:00:15.718027Z",
     "start_time": "2025-06-23T20:00:04.703219Z"
    }
   },
   "outputs": [],
   "source": [
    "from anomaly_qwen2_5_vl import Anomaly_Qwen2_5_VLForConditionalGeneration, Qwen2_5_VLProcessor\n",
    "from qwen_vl_utils import process_vision_info\n",
    "\n",
    "# # default: Load the model modelon the available device(s)\n",
    "# model = Anomaly_Qwen2_5_VLForConditionalGeneration.from_pretrained(\n",
    "#     \"Qwen/Qwen2.5-VL-7B-Instruct\", torch_dtype=\"auto\", device_map=\"auto\"\n",
    "# )\n",
    "#\n",
    "# # default processor\n",
    "# processor = AutoProcessor.from_pretrained(\"Qwen/Qwen2.5-VL-7B-Instruct\")\n",
    "\n",
    "# The default range for the number of visual tokens per image in the model is 4-16384.\n",
    "# You can set min_pixels and max_pixels according to your needs, such as a token range of 256-1280, to balance performance and cost.\n",
    "# min_pixels = 256*28*28\n",
    "# max_pixels = 1280*28*28\n",
    "# processor = AutoProcessor.from_pretrained(\"Qwen/Qwen2.5-VL-7B-Instruct\", min_pixels=min_pixels, max_pixels=max_pixels)\n",
    "\n",
    "# save_dir = \"Geo/Qwen2.5-VL-7B-Instruct\"\n",
    "# model.save_pretrained(save_dir)\n",
    "# processor.save_pretrained(save_dir)\n",
    "\n",
    "# default: Load the model on the available device(s)\n",
    "model = Anomaly_Qwen2_5_VLForConditionalGeneration.from_pretrained(\n",
    "    \"Geo/Anomaly_Qwen2.5-VL-7B-Instruct\", torch_dtype=\"auto\", device_map=\"auto\"\n",
    ")\n",
    "\n",
    "# default processor\n",
    "processor = Qwen2_5_VLProcessor.from_pretrained(\"Geo/Anomaly_Qwen2.5-VL-7B-Instruct\")"
   ]
  },
  {
   "cell_type": "code",
   "execution_count": null,
   "id": "initial_id",
   "metadata": {
    "ExecuteTime": {
     "end_time": "2025-06-23T20:00:20.851565Z",
     "start_time": "2025-06-23T20:00:16.092266Z"
    },
    "collapsed": true
   },
   "outputs": [],
   "source": [
    "# Messages containing a local video path and a text query\n",
    "messages = [\n",
    "    {\n",
    "        \"role\": \"user\",\n",
    "        \"content\": [\n",
    "            {\n",
    "                \"type\": \"video\",\n",
    "                \"video\": \"./dataset/train/01_0029-180_203.mp4\",\n",
    "                \"fps\": 24.0,\n",
    "            },\n",
    "            {\n",
    "                \"type\": \"text\",\n",
    "                \"text\": \"这段校园步行道视频里有异常情况吗？\"\n",
    "            },\n",
    "        ],\n",
    "    }\n",
    "]\n",
    "\n",
    "# Preparation for inference\n",
    "text = processor.apply_chat_template(\n",
    "    messages, tokenize=False, add_generation_prompt=True\n",
    ")\n",
    "image_inputs, video_inputs, video_kwargs = process_vision_info(messages, return_video_kwargs=True)\n",
    "inputs = processor(\n",
    "    text=[text],\n",
    "    images=image_inputs,\n",
    "    videos=video_inputs,\n",
    "    padding=True,\n",
    "    return_tensors=\"pt\",\n",
    "    **video_kwargs,\n",
    ")\n",
    "inputs = inputs.to(\"cuda\")\n",
    "\n",
    "# Inference\n",
    "generated_ids = model.generate(**inputs, max_new_tokens=512)\n",
    "generated_ids_trimmed = [\n",
    "    out_ids[len(in_ids) :] for in_ids, out_ids in zip(inputs.input_ids, generated_ids)\n",
    "]\n",
    "# generated_ids_trimmed = [\n",
    "#     out_ids for in_ids, out_ids in zip(inputs.input_ids, generated_ids)\n",
    "# ]\n",
    "output_text = processor.batch_decode(\n",
    "    generated_ids_trimmed, skip_special_tokens=True, clean_up_tokenization_spaces=False\n",
    ")\n",
    "print(output_text)\n",
    "print(video_inputs[0].shape)"
   ]
  },
  {
   "cell_type": "code",
   "execution_count": null,
   "id": "53faba7d",
   "metadata": {},
   "outputs": [],
   "source": [
    "inputs.keys()"
   ]
  },
  {
   "cell_type": "code",
   "execution_count": null,
   "id": "3abc7f90c97f75cb",
   "metadata": {
    "ExecuteTime": {
     "end_time": "2025-06-23T20:00:21.178972Z",
     "start_time": "2025-06-23T20:00:21.175569Z"
    }
   },
   "outputs": [],
   "source": [
    "anomaly_maps = model.model.anomaly_maps\n",
    "anomaly_maps.shape"
   ]
  },
  {
   "cell_type": "code",
   "execution_count": null,
   "id": "33e72ec3790d9bd2",
   "metadata": {
    "ExecuteTime": {
     "end_time": "2025-06-23T20:00:22.213624Z",
     "start_time": "2025-06-23T20:00:21.490075Z"
    }
   },
   "outputs": [],
   "source": [
    "import torch\n",
    "import matplotlib.pyplot as plt\n",
    "import numpy as np\n",
    "\n",
    "# 假设你的数据\n",
    "data = torch.softmax(anomaly_maps, dim=1)\n",
    "data = data.float().cpu().numpy()\n",
    "print(data.min(), data.max())\n",
    "# 强制数值到 0-1 区间\n",
    "data = np.clip(data, 0, 1)\n",
    "\n",
    "num_frames, num_channels, H, W = data.shape\n",
    "ncols = 6\n",
    "nrows = (num_frames + ncols - 1) // ncols\n",
    "\n",
    "plt.figure(figsize=(ncols * 3, nrows * 3 * num_channels))\n",
    "\n",
    "for i in range(num_frames):\n",
    "    for c in range(num_channels):\n",
    "        plt.subplot(nrows * num_channels, ncols, i + 1 + c * nrows * ncols)\n",
    "        plt.imshow(data[i, c], vmin=0, vmax=1)  # 再加保险\n",
    "        plt.axis('off')\n",
    "        plt.title(f'Frame {i+1} - C{c}')\n",
    "\n",
    "plt.tight_layout()\n",
    "plt.show()\n"
   ]
  },
  {
   "cell_type": "code",
   "execution_count": null,
   "id": "6acb5cb14357736b",
   "metadata": {},
   "outputs": [],
   "source": [
    "print([int(i) for i in inputs['input_ids'][0]])"
   ]
  },
  {
   "cell_type": "code",
   "execution_count": null,
   "id": "8550ba670020d7d5",
   "metadata": {},
   "outputs": [],
   "source": [
    "text"
   ]
  },
  {
   "cell_type": "code",
   "execution_count": null,
   "id": "d369dc03f21a588a",
   "metadata": {},
   "outputs": [],
   "source": [
    "\"\"\"\n",
    "<|im_start|>system\n",
    "You are a helpful assistant.<|im_end|>\n",
    "<|im_start|>user\n",
    "<|vision_start|><|video_pad|><|vision_end|><|vision_start|><|video_pad|><|vision_end|>这段校园步行道视频里有异常情况吗？<|im_end|>\n",
    "<|im_start|>assistant\n",
    "\n",
    "\"\"\""
   ]
  }
 ],
 "metadata": {
  "kernelspec": {
   "display_name": "TGADV",
   "language": "python",
   "name": "python3"
  },
  "language_info": {
   "codemirror_mode": {
    "name": "ipython",
    "version": 3
   },
   "file_extension": ".py",
   "mimetype": "text/x-python",
   "name": "python",
   "nbconvert_exporter": "python",
   "pygments_lexer": "ipython3",
   "version": "3.12.11"
  }
 },
 "nbformat": 4,
 "nbformat_minor": 5
}
