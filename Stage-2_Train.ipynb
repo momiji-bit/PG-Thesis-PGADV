{
 "cells": [
  {
   "cell_type": "code",
   "execution_count": 1,
   "id": "initial_id",
   "metadata": {
    "ExecuteTime": {
     "end_time": "2025-06-24T16:57:52.172352Z",
     "start_time": "2025-06-24T16:57:31.992116Z"
    },
    "collapsed": true
   },
   "outputs": [
    {
     "name": "stderr",
     "output_type": "stream",
     "text": [
      "Using a slow image processor as `use_fast` is unset and a slow processor was saved with this model. `use_fast=True` will be the default behavior in v4.52, even if the model was saved with a slow processor. This will result in minor differences in outputs. You'll still be able to use a slow processor with `use_fast=False`.\n"
     ]
    },
    {
     "name": "stdout",
     "output_type": "stream",
     "text": [
      "Normal batch: {'input_ids': torch.Size([1820, 21]), 'attention_mask': torch.Size([1820, 21])} \n",
      "Abnormal batch: {'input_ids': torch.Size([1820, 21]), 'attention_mask': torch.Size([1820, 21])}\n",
      "\n",
      "正在加载最佳权重: ./ckpts/step004800.pth\n"
     ]
    },
    {
     "data": {
      "application/vnd.jupyter.widget-view+json": {
       "model_id": "82fd63bf2c104de19a2ad387d8c24b8e",
       "version_major": 2,
       "version_minor": 0
      },
      "text/plain": [
       "Loading checkpoint shards:   0%|          | 0/4 [00:00<?, ?it/s]"
      ]
     },
     "metadata": {},
     "output_type": "display_data"
    },
    {
     "name": "stderr",
     "output_type": "stream",
     "text": [
      "Some weights of the model checkpoint at Geo/Anomaly_Qwen2.5-VL-7B-Instruct were not used when initializing Anomaly_Qwen2_5_VLForConditionalGeneration: ['model.language_model.anomaly_maps_decoder.fuse_weights', 'model.language_model.anomaly_maps_decoder.mlps.0.model.0.bias', 'model.language_model.anomaly_maps_decoder.mlps.0.model.0.weight', 'model.language_model.anomaly_maps_decoder.mlps.0.model.2.bias', 'model.language_model.anomaly_maps_decoder.mlps.0.model.2.weight', 'model.language_model.anomaly_maps_decoder.mlps.1.model.0.bias', 'model.language_model.anomaly_maps_decoder.mlps.1.model.0.weight', 'model.language_model.anomaly_maps_decoder.mlps.1.model.2.bias', 'model.language_model.anomaly_maps_decoder.mlps.1.model.2.weight', 'model.language_model.anomaly_maps_decoder.mlps.2.model.0.bias', 'model.language_model.anomaly_maps_decoder.mlps.2.model.0.weight', 'model.language_model.anomaly_maps_decoder.mlps.2.model.2.bias', 'model.language_model.anomaly_maps_decoder.mlps.2.model.2.weight', 'model.language_model.anomaly_maps_decoder.mlps.3.model.0.bias', 'model.language_model.anomaly_maps_decoder.mlps.3.model.0.weight', 'model.language_model.anomaly_maps_decoder.mlps.3.model.2.bias', 'model.language_model.anomaly_maps_decoder.mlps.3.model.2.weight', 'model.language_model.anomaly_maps_decoder.mlps.4.model.0.bias', 'model.language_model.anomaly_maps_decoder.mlps.4.model.0.weight', 'model.language_model.anomaly_maps_decoder.mlps.4.model.2.bias', 'model.language_model.anomaly_maps_decoder.mlps.4.model.2.weight', 'model.language_model.prompt_learner.backbone.0.bias', 'model.language_model.prompt_learner.backbone.0.weight', 'model.language_model.prompt_learner.backbone.2.bias', 'model.language_model.prompt_learner.backbone.2.weight', 'model.language_model.prompt_learner.backbone.4.bias', 'model.language_model.prompt_learner.backbone.4.weight', 'model.language_model.prompt_learner.base_prompt', 'model.language_model.prompt_learner.global_fc.bias', 'model.language_model.prompt_learner.global_fc.weight', 'model.language_model.prompt_learner.region_attn_conv.bias', 'model.language_model.prompt_learner.region_attn_conv.weight', 'model.language_model.prompt_learner.region_fc.bias', 'model.language_model.prompt_learner.region_fc.weight']\n",
      "- This IS expected if you are initializing Anomaly_Qwen2_5_VLForConditionalGeneration from the checkpoint of a model trained on another task or with another architecture (e.g. initializing a BertForSequenceClassification model from a BertForPreTraining model).\n",
      "- This IS NOT expected if you are initializing Anomaly_Qwen2_5_VLForConditionalGeneration from the checkpoint of a model that you expect to be exactly identical (initializing a BertForSequenceClassification model from a BertForSequenceClassification model).\n",
      "Some weights of Anomaly_Qwen2_5_VLForConditionalGeneration were not initialized from the model checkpoint at Geo/Anomaly_Qwen2.5-VL-7B-Instruct and are newly initialized: ['model.anomaly_maps_decoder.fuse_weights', 'model.anomaly_maps_decoder.mlps.0.model.0.bias', 'model.anomaly_maps_decoder.mlps.0.model.0.weight', 'model.anomaly_maps_decoder.mlps.0.model.2.bias', 'model.anomaly_maps_decoder.mlps.0.model.2.weight', 'model.anomaly_maps_decoder.mlps.1.model.0.bias', 'model.anomaly_maps_decoder.mlps.1.model.0.weight', 'model.anomaly_maps_decoder.mlps.1.model.2.bias', 'model.anomaly_maps_decoder.mlps.1.model.2.weight', 'model.anomaly_maps_decoder.mlps.2.model.0.bias', 'model.anomaly_maps_decoder.mlps.2.model.0.weight', 'model.anomaly_maps_decoder.mlps.2.model.2.bias', 'model.anomaly_maps_decoder.mlps.2.model.2.weight', 'model.anomaly_maps_decoder.mlps.3.model.0.bias', 'model.anomaly_maps_decoder.mlps.3.model.0.weight', 'model.anomaly_maps_decoder.mlps.3.model.2.bias', 'model.anomaly_maps_decoder.mlps.3.model.2.weight', 'model.anomaly_maps_decoder.mlps.4.model.0.bias', 'model.anomaly_maps_decoder.mlps.4.model.0.weight', 'model.anomaly_maps_decoder.mlps.4.model.2.bias', 'model.anomaly_maps_decoder.mlps.4.model.2.weight', 'model.prompt_learner.backbone.0.bias', 'model.prompt_learner.backbone.0.weight', 'model.prompt_learner.backbone.2.bias', 'model.prompt_learner.backbone.2.weight', 'model.prompt_learner.backbone.4.bias', 'model.prompt_learner.backbone.4.weight', 'model.prompt_learner.base_prompt', 'model.prompt_learner.global_fc.bias', 'model.prompt_learner.global_fc.weight', 'model.prompt_learner.region_attn_conv.bias', 'model.prompt_learner.region_attn_conv.weight', 'model.prompt_learner.region_fc.bias', 'model.prompt_learner.region_fc.weight']\n",
      "You should probably TRAIN this model on a down-stream task to be able to use it for predictions and inference.\n"
     ]
    },
    {
     "name": "stdout",
     "output_type": "stream",
     "text": [
      "AnomalyHeatmap(\n",
      "  (mlps): ModuleList(\n",
      "    (0-4): 5 x MLP(\n",
      "      (model): Sequential(\n",
      "        (0): Linear(in_features=1280, out_features=1024, bias=True)\n",
      "        (1): ReLU(inplace=True)\n",
      "        (2): Linear(in_features=1024, out_features=3584, bias=True)\n",
      "      )\n",
      "    )\n",
      "  )\n",
      ")\n",
      "PromptLearner(\n",
      "  (backbone): Sequential(\n",
      "    (0): Conv2d(1, 32, kernel_size=(3, 3), stride=(1, 1), padding=(1, 1))\n",
      "    (1): ReLU(inplace=True)\n",
      "    (2): Conv2d(32, 48, kernel_size=(3, 3), stride=(1, 1), padding=(1, 1))\n",
      "    (3): ReLU(inplace=True)\n",
      "    (4): Conv2d(48, 96, kernel_size=(3, 3), stride=(1, 1), padding=(1, 1))\n",
      "    (5): ReLU(inplace=True)\n",
      "  )\n",
      "  (region_attn_conv): Conv2d(96, 9, kernel_size=(1, 1), stride=(1, 1))\n",
      "  (region_fc): Linear(in_features=96, out_features=3584, bias=True)\n",
      "  (global_fc): Linear(in_features=96, out_features=3584, bias=True)\n",
      ")\n",
      "[Info] missing: [] | [Info] unexpected: []\n"
     ]
    }
   ],
   "source": [
    "import torch\n",
    "import cv2\n",
    "import numpy as np\n",
    "import matplotlib.pyplot as plt\n",
    "from anomaly_qwen2_5_vl import Anomaly_Qwen2_5_VLForConditionalGeneration, Qwen2_5_VLProcessor\n",
    "from qwen_vl_utils import process_vision_info\n",
    "\n",
    "best_ckpt_path = './ckpts/step004800.pth'\n",
    "print(f\"\\n正在加载最佳权重: {best_ckpt_path}\")\n",
    "\n",
    "base = Anomaly_Qwen2_5_VLForConditionalGeneration.from_pretrained(\n",
    "    \"Geo/Anomaly_Qwen2.5-VL-7B-Instruct\",\n",
    "    torch_dtype=\"auto\",\n",
    "    device_map=\"auto\",\n",
    ")\n",
    "processor = Qwen2_5_VLProcessor.from_pretrained(\"Geo/Anomaly_Qwen2.5-VL-7B-Instruct\")\n",
    "print(base.model.anomaly_maps_decoder)\n",
    "print(base.model.prompt_learner)\n",
    "\n",
    "state_dict = torch.load(best_ckpt_path, map_location=\"cpu\")[\"state_dict\"]\n",
    "missing, unexpected = base.model.anomaly_maps_decoder.load_state_dict(state_dict, strict=False)\n",
    "print(\"[Info] missing:\", missing, '|', \"[Info] unexpected:\", unexpected)"
   ]
  },
  {
   "cell_type": "code",
   "execution_count": 2,
   "id": "803c3bd11d82cd6f",
   "metadata": {
    "ExecuteTime": {
     "end_time": "2025-06-24T16:58:13.249707Z",
     "start_time": "2025-06-24T16:58:13.245812Z"
    }
   },
   "outputs": [],
   "source": [
    "# 只训练 prompt_learner\n",
    "for p in base.parameters():\n",
    "    p.requires_grad_(False)\n",
    "for p in base.model.prompt_learner.parameters():\n",
    "    p.requires_grad_(True)"
   ]
  },
  {
   "cell_type": "code",
   "execution_count": null,
   "id": "fea6445eabd9de8c",
   "metadata": {},
   "outputs": [],
   "source": []
  }
 ],
 "metadata": {
  "kernelspec": {
   "display_name": "TGADV",
   "language": "python",
   "name": "python3"
  },
  "language_info": {
   "codemirror_mode": {
    "name": "ipython",
    "version": 3
   },
   "file_extension": ".py",
   "mimetype": "text/x-python",
   "name": "python",
   "nbconvert_exporter": "python",
   "pygments_lexer": "ipython3",
   "version": "3.12.11"
  }
 },
 "nbformat": 4,
 "nbformat_minor": 5
}
