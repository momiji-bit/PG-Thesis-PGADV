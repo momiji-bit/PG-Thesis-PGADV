{
 "cells": [
  {
   "cell_type": "markdown",
   "id": "abf4af28-55be-46d7-99d5-83fe8fbfdec6",
   "metadata": {},
   "source": "# new token & new chat_template"
  },
  {
   "metadata": {
    "ExecuteTime": {
     "end_time": "2025-06-24T00:28:34.042276Z",
     "start_time": "2025-06-24T00:28:30.178995Z"
    }
   },
   "cell_type": "code",
   "source": [
    "from transformers import AutoTokenizer, AutoProcessor, Qwen2_5_VLProcessor\n",
    "from anomaly_qwen2_5_vl import Anomaly_Qwen2_5_VLForConditionalGeneration\n"
   ],
   "id": "b9af1ec85368b2e5",
   "outputs": [
    {
     "name": "stderr",
     "output_type": "stream",
     "text": [
      "Using a slow image processor as `use_fast` is unset and a slow processor was saved with this model. `use_fast=True` will be the default behavior in v4.52, even if the model was saved with a slow processor. This will result in minor differences in outputs. You'll still be able to use a slow processor with `use_fast=False`.\n"
     ]
    },
    {
     "name": "stdout",
     "output_type": "stream",
     "text": [
      "Normal batch: {'input_ids': torch.Size([1820, 21]), 'attention_mask': torch.Size([1820, 21])} \n",
      "Abnormal batch: {'input_ids': torch.Size([1820, 21]), 'attention_mask': torch.Size([1820, 21])}\n"
     ]
    }
   ],
   "execution_count": 1
  },
  {
   "metadata": {
    "ExecuteTime": {
     "end_time": "2025-06-24T00:28:56.386686Z",
     "start_time": "2025-06-24T00:28:34.262157Z"
    }
   },
   "cell_type": "code",
   "source": [
    "from transformers import AutoTokenizer, AutoProcessor, Qwen2_5_VLProcessor\n",
    "from anomaly_qwen2_5_vl import Anomaly_Qwen2_5_VLForConditionalGeneration\n",
    "\n",
    "# default: Load the model modelon the available device(s)\n",
    "model = Anomaly_Qwen2_5_VLForConditionalGeneration.from_pretrained(\n",
    "    \"Qwen/Qwen2.5-VL-7B-Instruct\", torch_dtype=\"auto\", device_map=\"auto\"\n",
    ")\n",
    "model.save_pretrained(\"Geo/Anomaly_Qwen2.5-VL-7B-Instruct\")\n",
    "\n",
    "processor = AutoProcessor.from_pretrained(\"Qwen/Qwen2.5-VL-7B-Instruct\")\n",
    "processor.save_pretrained(\"Geo/Anomaly_Qwen2.5-VL-7B-Instruct\")\n",
    "\n",
    "tokenizer = AutoTokenizer.from_pretrained(\"Qwen/Qwen2.5-VL-7B-Instruct\")\n",
    "\n",
    "special_tokens_dict = {\n",
    "    \"additional_special_tokens\": [\n",
    "        \"<|anomaly_prompt_start|>\",\n",
    "        \"<|anomaly_prompt_pad|>\",\n",
    "        \"<|anomaly_prompt_end|>\"\n",
    "    ]\n",
    "}\n",
    "tokenizer.add_special_tokens(special_tokens_dict)\n",
    "\n",
    "\n",
    "tokenizer.chat_template = \"\"\"{% set image_count = namespace(value=0) %}{% set video_count = namespace(value=0) %}{% for message in messages %}{% if loop.first and message['role'] != 'system' %}<|im_start|>system\n",
    "You are a helpful assistant.<|im_end|>\n",
    "{% endif %}<|im_start|>{{ message['role'] }}\n",
    "{% if message['content'] is string %}{{ message['content'] }}<|im_end|>\n",
    "{% else %}{% for content in message['content'] %}{% if content['type'] == 'image' or 'image' in content or 'image_url' in content %}{% set image_count.value = image_count.value + 1 %}{% if add_vision_id %}Picture {{ image_count.value }}: {% endif %}<|vision_start|><|image_pad|><|vision_end|><|anomaly_prompt_start|><|anomaly_prompt_pad|><|anomaly_prompt_end|>{% elif content['type'] == 'video' or 'video' in content %}{% set video_count.value = video_count.value + 1 %}{% if add_vision_id %}Video {{ video_count.value }}: {% endif %}<|vision_start|><|video_pad|><|vision_end|><|anomaly_prompt_start|><|anomaly_prompt_pad|><|anomaly_prompt_end|>{% elif 'text' in content %}{{ content['text'] }}{% endif %}{% endfor %}<|im_end|>\n",
    "{% endif %}{% endfor %}{% if add_generation_prompt %}<|im_start|>assistant\n",
    "{% endif %}\"\"\"\n",
    "\n",
    "# 覆盖保存（和processor目录一致！）\n",
    "tokenizer.save_pretrained(\"Geo/Anomaly_Qwen2.5-VL-7B-Instruct\")\n"
   ],
   "id": "fef2b257eed4249f",
   "outputs": [
    {
     "data": {
      "text/plain": [
       "Loading checkpoint shards:   0%|          | 0/5 [00:00<?, ?it/s]"
      ],
      "application/vnd.jupyter.widget-view+json": {
       "version_major": 2,
       "version_minor": 0,
       "model_id": "6f40d91079f143cc8fd43808f6d1145c"
      }
     },
     "metadata": {},
     "output_type": "display_data"
    },
    {
     "name": "stderr",
     "output_type": "stream",
     "text": [
      "Some weights of Anomaly_Qwen2_5_VLForConditionalGeneration were not initialized from the model checkpoint at Qwen/Qwen2.5-VL-7B-Instruct and are newly initialized: ['model.anomaly_maps_decoder.fuse_weights', 'model.anomaly_maps_decoder.mlps.0.model.0.bias', 'model.anomaly_maps_decoder.mlps.0.model.0.weight', 'model.anomaly_maps_decoder.mlps.0.model.2.bias', 'model.anomaly_maps_decoder.mlps.0.model.2.weight', 'model.anomaly_maps_decoder.mlps.1.model.0.bias', 'model.anomaly_maps_decoder.mlps.1.model.0.weight', 'model.anomaly_maps_decoder.mlps.1.model.2.bias', 'model.anomaly_maps_decoder.mlps.1.model.2.weight', 'model.anomaly_maps_decoder.mlps.2.model.0.bias', 'model.anomaly_maps_decoder.mlps.2.model.0.weight', 'model.anomaly_maps_decoder.mlps.2.model.2.bias', 'model.anomaly_maps_decoder.mlps.2.model.2.weight', 'model.anomaly_maps_decoder.mlps.3.model.0.bias', 'model.anomaly_maps_decoder.mlps.3.model.0.weight', 'model.anomaly_maps_decoder.mlps.3.model.2.bias', 'model.anomaly_maps_decoder.mlps.3.model.2.weight', 'model.anomaly_maps_decoder.mlps.4.model.0.bias', 'model.anomaly_maps_decoder.mlps.4.model.0.weight', 'model.anomaly_maps_decoder.mlps.4.model.2.bias', 'model.anomaly_maps_decoder.mlps.4.model.2.weight', 'model.prompt_learner.backbone.0.bias', 'model.prompt_learner.backbone.0.weight', 'model.prompt_learner.backbone.2.bias', 'model.prompt_learner.backbone.2.weight', 'model.prompt_learner.backbone.4.bias', 'model.prompt_learner.backbone.4.weight', 'model.prompt_learner.base_prompt', 'model.prompt_learner.global_fc.bias', 'model.prompt_learner.global_fc.weight', 'model.prompt_learner.region_attn_conv.bias', 'model.prompt_learner.region_attn_conv.weight', 'model.prompt_learner.region_fc.bias', 'model.prompt_learner.region_fc.weight']\n",
      "You should probably TRAIN this model on a down-stream task to be able to use it for predictions and inference.\n",
      "You have video processor config saved in `preprocessor.json` file which is deprecated. Video processor configs should be saved in their own `video_preprocessor.json` file. You can rename the file or load and save the processor back which renames it automatically. Loading from `preprocessor.json` will be removed in v5.0.\n"
     ]
    },
    {
     "data": {
      "text/plain": [
       "('Geo/Anomaly_Qwen2.5-VL-7B-Instruct\\\\tokenizer_config.json',\n",
       " 'Geo/Anomaly_Qwen2.5-VL-7B-Instruct\\\\special_tokens_map.json',\n",
       " 'Geo/Anomaly_Qwen2.5-VL-7B-Instruct\\\\chat_template.jinja',\n",
       " 'Geo/Anomaly_Qwen2.5-VL-7B-Instruct\\\\vocab.json',\n",
       " 'Geo/Anomaly_Qwen2.5-VL-7B-Instruct\\\\merges.txt',\n",
       " 'Geo/Anomaly_Qwen2.5-VL-7B-Instruct\\\\added_tokens.json',\n",
       " 'Geo/Anomaly_Qwen2.5-VL-7B-Instruct\\\\tokenizer.json')"
      ]
     },
     "execution_count": 2,
     "metadata": {},
     "output_type": "execute_result"
    }
   ],
   "execution_count": 2
  },
  {
   "metadata": {
    "ExecuteTime": {
     "end_time": "2025-06-24T00:28:56.902357Z",
     "start_time": "2025-06-24T00:28:56.389691Z"
    }
   },
   "cell_type": "code",
   "source": [
    "processor = Qwen2_5_VLProcessor.from_pretrained(\"Geo/Anomaly_Qwen2.5-VL-7B-Instruct\")\n",
    "\n",
    "# Messages containing a local video path and a text query\n",
    "messages = [\n",
    "    {\n",
    "        \"role\": \"user\",\n",
    "        \"content\": [\n",
    "            {\n",
    "                \"type\": \"video\",\n",
    "                \"video\": \"./dataset/train/01_0029-180_203.mp4\",\n",
    "                \"fps\": 24.0,\n",
    "            },\n",
    "            {\n",
    "                \"type\": \"text\",\n",
    "                \"text\": \"这段校园步行道视频里有异常情况吗？\"\n",
    "            },\n",
    "        ],\n",
    "    }\n",
    "]\n",
    "\n",
    "# Preparation for inference\n",
    "text = processor.apply_chat_template(\n",
    "    messages, tokenize=False, add_generation_prompt=True\n",
    ")\n",
    "\n",
    "print(text)"
   ],
   "id": "f3845c7d1bda40ce",
   "outputs": [
    {
     "name": "stdout",
     "output_type": "stream",
     "text": [
      "<|im_start|>system\n",
      "You are a helpful assistant.<|im_end|>\n",
      "<|im_start|>user\n",
      "<|vision_start|><|video_pad|><|vision_end|><|anomaly_prompt_start|><|anomaly_prompt_pad|><|anomaly_prompt_end|>这段校园步行道视频里有异常情况吗？<|im_end|>\n",
      "<|im_start|>assistant\n",
      "\n"
     ]
    }
   ],
   "execution_count": 3
  },
  {
   "metadata": {
    "ExecuteTime": {
     "end_time": "2025-06-24T00:28:57.713887Z",
     "start_time": "2025-06-24T00:28:57.464152Z"
    }
   },
   "cell_type": "code",
   "source": [
    "from transformers import AutoConfig,AutoTokenizer\n",
    "\n",
    "config = AutoConfig.from_pretrained(\"Geo/Anomaly_Qwen2.5-VL-7B-Instruct\")\n",
    "tokenizer = AutoTokenizer.from_pretrained(\"Geo/Anomaly_Qwen2.5-VL-7B-Instruct\")\n",
    "\n",
    "# 这里以 anomaly_prompt_token_id 为例，假设你已经获得了这个 token 的 id\n",
    "anomaly_prompt_token_id = tokenizer.convert_tokens_to_ids(\"<|anomaly_prompt_pad|>\")\n",
    "config.anomaly_prompt_token_id = anomaly_prompt_token_id\n",
    "print(anomaly_prompt_token_id)\n",
    "config.save_pretrained(\"Geo/Anomaly_Qwen2.5-VL-7B-Instruct\")\n"
   ],
   "id": "3f25161a789336bf",
   "outputs": [
    {
     "name": "stdout",
     "output_type": "stream",
     "text": [
      "151666\n"
     ]
    }
   ],
   "execution_count": 4
  }
 ],
 "metadata": {
  "kernelspec": {
   "display_name": "Python 3 (ipykernel)",
   "language": "python",
   "name": "python3"
  },
  "language_info": {
   "codemirror_mode": {
    "name": "ipython",
    "version": 3
   },
   "file_extension": ".py",
   "mimetype": "text/x-python",
   "name": "python",
   "nbconvert_exporter": "python",
   "pygments_lexer": "ipython3",
   "version": "3.12.3"
  }
 },
 "nbformat": 4,
 "nbformat_minor": 5
}
