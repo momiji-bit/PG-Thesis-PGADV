{
 "cells": [
  {
   "cell_type": "code",
   "id": "initial_id",
   "metadata": {
    "collapsed": true,
    "ExecuteTime": {
     "end_time": "2025-06-21T15:01:57.167185Z",
     "start_time": "2025-06-21T14:59:45.830270Z"
    }
   },
   "source": [
    "import os\n",
    "import cv2\n",
    "from tqdm import tqdm\n",
    "\n",
    "input_dir = '../../Datasets/shanghaitech/testing/frames'\n",
    "output_dir = '../../Datasets/shanghaitech/testing/videos'\n",
    "\n",
    "os.makedirs(output_dir, exist_ok=True)\n",
    "resized_height, resized_width = 476, 868\n",
    "# 遍历每个文件夹\n",
    "for folder_name in tqdm(sorted(os.listdir(input_dir))):\n",
    "    folder_path = os.path.join(input_dir, folder_name)\n",
    "    if not os.path.isdir(folder_path):\n",
    "        continue\n",
    "\n",
    "    # 获取图片帧\n",
    "    images = sorted([img for img in os.listdir(folder_path) if img.lower().endswith(('.jpg', '.png'))])\n",
    "    if len(images) == 0:\n",
    "        print(f\"文件夹 {folder_name} 为空，跳过\")\n",
    "        continue\n",
    "\n",
    "    # 读取第一帧确定分辨率\n",
    "    first_frame = cv2.imread(os.path.join(folder_path, images[0]))\n",
    "    height, width, _ = first_frame.shape\n",
    "\n",
    "    # 输出视频名\n",
    "    video_path = os.path.join(output_dir, f\"{folder_name}.mp4\")\n",
    "    # 写入视频\n",
    "    fps = 25  # 可自定义帧率\n",
    "    fourcc = cv2.VideoWriter_fourcc(*'mp4v')  # 适用于mp4格式\n",
    "    out = cv2.VideoWriter(video_path, fourcc, fps, (resized_width, resized_height))\n",
    "\n",
    "    for img_name in images:\n",
    "        img_path = os.path.join(folder_path, img_name)\n",
    "        frame = cv2.imread(img_path)\n",
    "        if frame is None:\n",
    "            print(f\"读取帧失败: {img_path}\")\n",
    "            continue\n",
    "        frame = cv2.resize(frame, (resized_width, resized_height), interpolation=cv2.INTER_CUBIC)\n",
    "        out.write(frame)\n",
    "    out.release()\n",
    "    # print(f\"合成完成: {video_path}\")\n",
    "\n",
    "print(\"全部视频合成完成！\")\n"
   ],
   "outputs": [
    {
     "name": "stderr",
     "output_type": "stream",
     "text": [
      "100%|██████████| 107/107 [02:11<00:00,  1.23s/it]"
     ]
    },
    {
     "name": "stdout",
     "output_type": "stream",
     "text": [
      "全部视频合成完成！\n"
     ]
    },
    {
     "name": "stderr",
     "output_type": "stream",
     "text": [
      "\n"
     ]
    }
   ],
   "execution_count": 3
  },
  {
   "metadata": {},
   "cell_type": "code",
   "outputs": [],
   "execution_count": null,
   "source": "",
   "id": "e82024f262b82ee2"
  }
 ],
 "metadata": {
  "kernelspec": {
   "display_name": "Python 3",
   "language": "python",
   "name": "python3"
  },
  "language_info": {
   "codemirror_mode": {
    "name": "ipython",
    "version": 2
   },
   "file_extension": ".py",
   "mimetype": "text/x-python",
   "name": "python",
   "nbconvert_exporter": "python",
   "pygments_lexer": "ipython2",
   "version": "2.7.6"
  }
 },
 "nbformat": 4,
 "nbformat_minor": 5
}
