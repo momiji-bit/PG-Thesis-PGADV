{
 "cells": [
  {
   "cell_type": "code",
   "id": "initial_id",
   "metadata": {
    "collapsed": true,
    "ExecuteTime": {
     "end_time": "2025-06-21T15:03:23.082520Z",
     "start_time": "2025-06-21T15:03:21.799671Z"
    }
   },
   "source": [
    "import os\n",
    "import shutil\n",
    "import random\n",
    "from glob import glob\n",
    "\n",
    "# 指定源目录和目标目录\n",
    "source_dir = '../../Datasets/shanghaitech/testing/clips'  # 修改为你的源目录\n",
    "train_dir = '../dataset/train'    # 修改为你的训练集目录\n",
    "val_dir = '../dataset/val'        # 修改为你的验证集目录\n",
    "\n",
    "# 创建目标目录\n",
    "os.makedirs(train_dir, exist_ok=True)\n",
    "os.makedirs(val_dir, exist_ok=True)\n",
    "\n",
    "# 随机种子，确保可复现\n",
    "random_seed = 42\n",
    "random.seed(random_seed)\n",
    "\n",
    "# 获取所有MP4文件路径\n",
    "mp4_list = sorted(glob(os.path.join(source_dir, '*.mp4')))\n",
    "print(f'总共找到 {len(mp4_list)} 个视频文件')\n",
    "\n",
    "# 打乱顺序\n",
    "random.shuffle(mp4_list)\n",
    "\n",
    "# 划分\n",
    "num_total = len(mp4_list)\n",
    "num_train = int(num_total * 0.8)\n",
    "train_files = mp4_list[:num_train]\n",
    "val_files = mp4_list[num_train:]\n",
    "\n",
    "print(f'分配到训练集: {len(train_files)}，验证集: {len(val_files)}')\n",
    "\n",
    "# 拷贝文件\n",
    "def copy_files(file_list, target_dir):\n",
    "    for file in file_list:\n",
    "        filename = os.path.basename(file)\n",
    "        shutil.copy2(file, os.path.join(target_dir, filename))\n",
    "\n",
    "copy_files(train_files, train_dir)\n",
    "copy_files(val_files, val_dir)\n",
    "\n",
    "print('拷贝完成')\n"
   ],
   "outputs": [
    {
     "name": "stdout",
     "output_type": "stream",
     "text": [
      "总共找到 3283 个视频文件\n",
      "分配到训练集: 2626，验证集: 657\n",
      "拷贝完成\n"
     ]
    }
   ],
   "execution_count": 2
  },
  {
   "metadata": {},
   "cell_type": "code",
   "outputs": [],
   "execution_count": null,
   "source": "",
   "id": "5dac9f00e0ea5dca"
  }
 ],
 "metadata": {
  "kernelspec": {
   "display_name": "Python 3",
   "language": "python",
   "name": "python3"
  },
  "language_info": {
   "codemirror_mode": {
    "name": "ipython",
    "version": 2
   },
   "file_extension": ".py",
   "mimetype": "text/x-python",
   "name": "python",
   "nbconvert_exporter": "python",
   "pygments_lexer": "ipython2",
   "version": "2.7.6"
  }
 },
 "nbformat": 4,
 "nbformat_minor": 5
}
