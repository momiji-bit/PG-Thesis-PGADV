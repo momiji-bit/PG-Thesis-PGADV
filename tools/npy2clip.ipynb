{
 "cells": [
  {
   "cell_type": "code",
   "id": "initial_id",
   "metadata": {
    "collapsed": true,
    "ExecuteTime": {
     "end_time": "2025-06-21T15:02:23.133156Z",
     "start_time": "2025-06-21T15:02:00.463966Z"
    }
   },
   "source": [
    "import os\n",
    "import cv2\n",
    "import numpy as np\n",
    "from tqdm import tqdm\n",
    "\n",
    "input_dir = '../../Datasets/shanghaitech/testing/test_pixel_mask'\n",
    "output_dir = '../dataset/gt'\n",
    "os.makedirs(output_dir, exist_ok=True)\n",
    "\n",
    "window_size = 24\n",
    "stride = 12\n",
    "resized_height, resized_width = 476, 868\n",
    "\n",
    "def pad_num(n):\n",
    "    # 补零到三位\n",
    "    return str(n).zfill(3)\n",
    "\n",
    "for file_name in tqdm(sorted(os.listdir(input_dir))):\n",
    "    if not file_name.endswith('.npy'):\n",
    "        continue\n",
    "\n",
    "    file_path = os.path.join(input_dir, file_name)\n",
    "    data = np.load(file_path, allow_pickle=True)  # 适配不同shape\n",
    "    num_frames = data.shape[0]\n",
    "    if num_frames < window_size:\n",
    "        print(f\"文件 {file_name} 不足 {window_size} 帧，跳过\")\n",
    "        continue\n",
    "\n",
    "    base_name = os.path.splitext(file_name)[0]  # 去掉扩展名\n",
    "\n",
    "    for start_idx in range(0, num_frames - window_size + 1, stride):\n",
    "        end_idx = start_idx + window_size - 1\n",
    "\n",
    "        # 命名格式：[001_024]文件名.npy\n",
    "        start_str = pad_num(start_idx)\n",
    "        end_str = pad_num(end_idx)\n",
    "        out_name = f'{base_name}-{start_str}_{end_str}.npy'\n",
    "        out_path = os.path.join(output_dir, out_name)\n",
    "\n",
    "        clip = data[start_idx:end_idx+1]\n",
    "        clip_resized = np.array([cv2.resize(f, (resized_width, resized_height), interpolation=cv2.INTER_NEAREST) for f in clip])\n",
    "        np.save(out_path, clip_resized)\n",
    "        # print(f\"保存: {out_path}\")\n",
    "\n",
    "print(\"全部npy滑动窗口切分完成！\")\n"
   ],
   "outputs": [
    {
     "name": "stderr",
     "output_type": "stream",
     "text": [
      "100%|██████████| 107/107 [00:22<00:00,  4.73it/s]"
     ]
    },
    {
     "name": "stdout",
     "output_type": "stream",
     "text": [
      "全部npy滑动窗口切分完成！\n"
     ]
    },
    {
     "name": "stderr",
     "output_type": "stream",
     "text": [
      "\n"
     ]
    }
   ],
   "execution_count": 2
  },
  {
   "metadata": {},
   "cell_type": "code",
   "outputs": [],
   "execution_count": null,
   "source": "",
   "id": "395ca29a93e056ff"
  }
 ],
 "metadata": {
  "kernelspec": {
   "display_name": "Python 3",
   "language": "python",
   "name": "python3"
  },
  "language_info": {
   "codemirror_mode": {
    "name": "ipython",
    "version": 2
   },
   "file_extension": ".py",
   "mimetype": "text/x-python",
   "name": "python",
   "nbconvert_exporter": "python",
   "pygments_lexer": "ipython2",
   "version": "2.7.6"
  }
 },
 "nbformat": 4,
 "nbformat_minor": 5
}
