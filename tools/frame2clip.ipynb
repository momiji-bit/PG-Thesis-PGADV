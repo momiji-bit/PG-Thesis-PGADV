{
 "cells": [
  {
   "cell_type": "code",
   "id": "initial_id",
   "metadata": {
    "collapsed": true,
    "ExecuteTime": {
     "end_time": "2025-06-21T15:02:06.623214Z",
     "start_time": "2025-06-21T14:57:58.761059Z"
    }
   },
   "source": [
    "import os\n",
    "import cv2\n",
    "from tqdm import tqdm\n",
    "\n",
    "input_dir = '../../Datasets/shanghaitech/testing/frames'\n",
    "output_dir = '../../Datasets/shanghaitech/testing/clips'\n",
    "os.makedirs(output_dir, exist_ok=True)\n",
    "\n",
    "window_size = 24\n",
    "stride = 12\n",
    "\n",
    "def pad_num(n):\n",
    "    # 根据你的需求自动补零，最多三位（如 001）\n",
    "    return str(n).zfill(3)\n",
    "\n",
    "for folder_name in tqdm(sorted(os.listdir(input_dir))):\n",
    "    folder_path = os.path.join(input_dir, folder_name)\n",
    "    if not os.path.isdir(folder_path):\n",
    "        continue\n",
    "\n",
    "    images = sorted([img for img in os.listdir(folder_path) if img.lower().endswith(('.jpg', '.png'))])\n",
    "    if len(images) < window_size:\n",
    "        print(f\"文件夹 {folder_name} 不足 {window_size} 帧，跳过\")\n",
    "        continue\n",
    "\n",
    "    # 读取第一帧确定分辨率\n",
    "    first_frame = cv2.imread(os.path.join(folder_path, images[0]))\n",
    "    height, width, _ = first_frame.shape\n",
    "    fps = 24\n",
    "    fourcc = cv2.VideoWriter_fourcc(*'mp4v')\n",
    "\n",
    "    # 滑动窗口生成视频\n",
    "    num_images = len(images)\n",
    "    # for start_idx in range(0, num_images - window_size + 1, stride):\n",
    "    #     end_idx = start_idx + window_size - 1\n",
    "    #\n",
    "    #     # 命名格式：[001_024]文件夹名.mp4\n",
    "    #     start_str = pad_num(start_idx)\n",
    "    #     end_str = pad_num(end_idx)\n",
    "    #     video_name = f'{folder_name}-{start_str}_{end_str}.mp4'\n",
    "    #     video_path = os.path.join(output_dir, video_name)\n",
    "    #     out = cv2.VideoWriter(video_path, fourcc, fps, (width, height))\n",
    "    #\n",
    "    #     for idx in range(start_idx, end_idx + 1):\n",
    "    #         img_path = os.path.join(folder_path, images[idx])\n",
    "    #         frame = cv2.imread(img_path)\n",
    "    #         if frame is None:\n",
    "    #             print(f\"读取帧失败: {img_path}\")\n",
    "    #             continue\n",
    "    #         out.write(frame)\n",
    "    #     out.release()\n",
    "    #     # print(f\"合成完成: {video_path}\")\n",
    "    resized_height, resized_width = 476, 868  # 指定resize的高和宽\n",
    "    for start_idx in range(0, num_images - window_size + 1, stride):\n",
    "        end_idx = start_idx + window_size - 1\n",
    "\n",
    "        # 命名格式：[001_024]文件夹名.mp4\n",
    "        start_str = pad_num(start_idx)\n",
    "        end_str = pad_num(end_idx)\n",
    "        video_name = f'{folder_name}-{start_str}_{end_str}.mp4'\n",
    "        video_path = os.path.join(output_dir, video_name)\n",
    "        out = cv2.VideoWriter(video_path, fourcc, fps, (resized_width, resized_height))  # 这里也要改\n",
    "\n",
    "        for idx in range(start_idx, end_idx + 1):\n",
    "            img_path = os.path.join(folder_path, images[idx])\n",
    "            frame = cv2.imread(img_path)\n",
    "            if frame is None:\n",
    "                print(f\"读取帧失败: {img_path}\")\n",
    "                continue\n",
    "            # 这里加resize\n",
    "            frame = cv2.resize(frame, (resized_width, resized_height), interpolation=cv2.INTER_CUBIC)\n",
    "            out.write(frame)\n",
    "        out.release()\n",
    "\n",
    "\n",
    "print(\"全部滑动窗口视频合成完成！\")\n"
   ],
   "outputs": [
    {
     "name": "stderr",
     "output_type": "stream",
     "text": [
      "100%|██████████| 107/107 [04:07<00:00,  2.32s/it]"
     ]
    },
    {
     "name": "stdout",
     "output_type": "stream",
     "text": [
      "全部滑动窗口视频合成完成！\n"
     ]
    },
    {
     "name": "stderr",
     "output_type": "stream",
     "text": [
      "\n"
     ]
    }
   ],
   "execution_count": 1
  },
  {
   "metadata": {},
   "cell_type": "code",
   "outputs": [],
   "execution_count": null,
   "source": "",
   "id": "1a240a375132a3fb"
  }
 ],
 "metadata": {
  "kernelspec": {
   "display_name": "Python 3",
   "language": "python",
   "name": "python3"
  },
  "language_info": {
   "codemirror_mode": {
    "name": "ipython",
    "version": 2
   },
   "file_extension": ".py",
   "mimetype": "text/x-python",
   "name": "python",
   "nbconvert_exporter": "python",
   "pygments_lexer": "ipython2",
   "version": "2.7.6"
  }
 },
 "nbformat": 4,
 "nbformat_minor": 5
}
